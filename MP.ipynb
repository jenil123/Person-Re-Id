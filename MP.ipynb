{
  "nbformat": 4,
  "nbformat_minor": 0,
  "metadata": {
    "colab": {
      "name": "MP.ipynb",
      "provenance": [],
      "collapsed_sections": []
    },
    "kernelspec": {
      "name": "python3",
      "display_name": "Python 3"
    }
  },
  "cells": [
    {
      "cell_type": "code",
      "metadata": {
        "id": "BD05yayN438n",
        "colab_type": "code",
        "colab": {}
      },
      "source": [
        ""
      ],
      "execution_count": null,
      "outputs": []
    },
    {
      "cell_type": "code",
      "metadata": {
        "id": "v6O64CQN8MsK",
        "colab_type": "code",
        "colab": {}
      },
      "source": [
        "import os\n",
        "count=0;\n",
        "import cv2"
      ],
      "execution_count": null,
      "outputs": []
    },
    {
      "cell_type": "code",
      "metadata": {
        "id": "v7izN6Um5Dwg",
        "colab_type": "code",
        "colab": {}
      },
      "source": [
        "for filename in os.listdir('/content/fight-detection-surv-dataset/fight'):\n",
        "  #print(filename)\n",
        "  vidObj = cv2.VideoCapture('/content/fight-detection-surv-dataset/fight/'+filename) \n",
        "  while True: \n",
        "        success, image = vidObj.read() \n",
        "        #print(success)\n",
        "        # Saves the frames with frame-count \n",
        "        if success:\n",
        "          cv2.resize(image,(240,240));\n",
        "          cv2.imwrite(\"/content/fight-detection-surv-dataset/Dataset/fight1/frame%d.jpg\" % count, image) \n",
        "          count += 1\n",
        "        else:\n",
        "          break\n",
        "  vidObj.release() \n",
        "  cv2.destroyAllWindows() "
      ],
      "execution_count": null,
      "outputs": []
    },
    {
      "cell_type": "code",
      "metadata": {
        "id": "IiElyjBTZqal",
        "colab_type": "code",
        "colab": {}
      },
      "source": [
        "count=0"
      ],
      "execution_count": null,
      "outputs": []
    },
    {
      "cell_type": "code",
      "metadata": {
        "id": "P8T3yQ-b8JZZ",
        "colab_type": "code",
        "colab": {}
      },
      "source": [
        "for filename in os.listdir('/content/fight-detection-surv-dataset/noFight'):\n",
        "  #print(filename)\n",
        "  vidObj = cv2.VideoCapture('/content/fight-detection-surv-dataset/noFight/'+filename) \n",
        "  while True: \n",
        "        success, image = vidObj.read() \n",
        "        #print(success)\n",
        "        # Saves the frames with frame-count \n",
        "        if success:\n",
        "          cv2.resize(image,(240,240));\n",
        "          cv2.imwrite(\"/content/fight-detection-surv-dataset/Dataset/nonfight1/frame%d.jpg\" % count, image) \n",
        "          count += 1\n",
        "        else:\n",
        "          break\n",
        "  vidObj.release() \n",
        "  cv2.destroyAllWindows() "
      ],
      "execution_count": null,
      "outputs": []
    },
    {
      "cell_type": "code",
      "metadata": {
        "id": "HSyi1SZvFRww",
        "colab_type": "code",
        "colab": {
          "base_uri": "https://localhost:8080/",
          "height": 34
        },
        "outputId": "5372bfec-c632-4b54-fe22-e442aa5d898f"
      },
      "source": [
        "from keras.applications.inception_v3 import InceptionV3\n",
        "from keras.optimizers import SGD\n",
        "from keras.preprocessing.image import ImageDataGenerator\n",
        "from keras.models import Model\n",
        "from keras.layers import Dense, GlobalAveragePooling2D\n",
        "from keras.callbacks import ModelCheckpoint, TensorBoard, EarlyStopping\n",
        "#from data import DataSet\n",
        "import os.path"
      ],
      "execution_count": null,
      "outputs": [
        {
          "output_type": "stream",
          "text": [
            "Using TensorFlow backend.\n"
          ],
          "name": "stderr"
        }
      ]
    },
    {
      "cell_type": "code",
      "metadata": {
        "id": "C0p63fXvXHHq",
        "colab_type": "code",
        "colab": {}
      },
      "source": [
        "def get_model(weights='imagenet'):\n",
        "    # create the base pre-trained model\n",
        "    base_model = InceptionV3(weights=weights, include_top=False)\n",
        "\n",
        "    # add a global spatial average pooling layer\n",
        "    x = base_model.output\n",
        "    x = GlobalAveragePooling2D()(x)\n",
        "    # let's add a fully-connected layer\n",
        "    x = Dense(1024, activation='relu')(x)\n",
        "    # and a logistic layer\n",
        "    predictions = Dense(2, activation='softmax')(x)\n",
        "\n",
        "    # this is the model we will train\n",
        "    model = Model(inputs=base_model.input, outputs=predictions)\n",
        "    return model"
      ],
      "execution_count": null,
      "outputs": []
    },
    {
      "cell_type": "code",
      "metadata": {
        "id": "-vhPShG2XVDA",
        "colab_type": "code",
        "colab": {}
      },
      "source": [
        "def get_generators():\n",
        "    train_datagen = ImageDataGenerator(\n",
        "        rescale=1./255,\n",
        "        shear_range=0.2,\n",
        "        horizontal_flip=True,\n",
        "        rotation_range=10.,\n",
        "        width_shift_range=0.2,\n",
        "        height_shift_range=0.2)\n",
        "\n",
        "    test_datagen = ImageDataGenerator(rescale=1./255)\n",
        "\n",
        "    train_generator = train_datagen.flow_from_directory(\n",
        "        '/content/fight-detection-surv-dataset/Dataset',\n",
        "        target_size=(299, 299),\n",
        "        batch_size=32,\n",
        "        class_mode='categorical')\n",
        "\n",
        "    return train_generator,validation_generator"
      ],
      "execution_count": null,
      "outputs": []
    },
    {
      "cell_type": "code",
      "metadata": {
        "id": "7QP9emMuX2WK",
        "colab_type": "code",
        "colab": {}
      },
      "source": [
        "model = get_model()\n",
        "generators = get_generators()"
      ],
      "execution_count": null,
      "outputs": []
    },
    {
      "cell_type": "code",
      "metadata": {
        "id": "zcQCLfJPJtc2",
        "colab_type": "code",
        "colab": {}
      },
      "source": [
        "checkpointer = ModelCheckpoint(\n",
        "    filepath=os.path.join('data', 'checkpoints', 'inception.{epoch:03d}.hdf5'),\n",
        "    verbose=1,\n",
        "    save_best_only=True)\n",
        "\n",
        "# Helper: Stop when we stop learning.\n",
        "early_stopper = EarlyStopping(patience=10)\n",
        "\n",
        "# Helper: TensorBoard\n",
        "tensorboard = TensorBoard(log_dir=os.path.join('data', 'logs'))"
      ],
      "execution_count": null,
      "outputs": []
    },
    {
      "cell_type": "code",
      "metadata": {
        "id": "rQ2CkkyGYBFT",
        "colab_type": "code",
        "colab": {}
      },
      "source": [
        "def train_model(model, nb_epoch, generators, callbacks=[]):\n",
        "    train_generator =generators\n",
        "    model.fit_generator(\n",
        "        train_generator,\n",
        "        steps_per_epoch=100,\n",
        "        epochs=nb_epoch,\n",
        "        callbacks=callbacks)\n",
        "    return model"
      ],
      "execution_count": null,
      "outputs": []
    },
    {
      "cell_type": "code",
      "metadata": {
        "id": "InntPv3TbMRt",
        "colab_type": "code",
        "colab": {}
      },
      "source": [
        "def freeze_all_but_top(model):\n",
        "    \"\"\"Used to train just the top layers of the model.\"\"\"\n",
        "    # first: train only the top layers (which were randomly initialized)\n",
        "    # i.e. freeze all convolutional InceptionV3 layers\n",
        "    for layer in model.layers[:-2]:\n",
        "        layer.trainable = False\n",
        "\n",
        "    # compile the model (should be done *after* setting layers to non-trainable)\n",
        "    model.compile(optimizer='rmsprop', loss='categorical_crossentropy', metrics=['accuracy'])\n",
        "\n",
        "    return model\n",
        "\n",
        "def freeze_all_but_mid_and_top(model):\n",
        "    \"\"\"After we fine-tune the dense layers, train deeper.\"\"\"\n",
        "    # we chose to train the top 2 inception blocks, i.e. we will freeze\n",
        "    # the first 172 layers and unfreeze the rest:\n",
        "    for layer in model.layers[:172]:\n",
        "        layer.trainable = False\n",
        "    for layer in model.layers[172:]:\n",
        "        layer.trainable = True\n",
        "\n",
        "    # we need to recompile the model for these modifications to take effect\n",
        "    # we use SGD with a low learning rate\n",
        "    model.compile(\n",
        "        optimizer=SGD(lr=0.0001, momentum=0.9),\n",
        "        loss='categorical_crossentropy',\n",
        "        metrics=['accuracy', 'top_k_categorical_accuracy'])\n",
        "\n",
        "    return model"
      ],
      "execution_count": null,
      "outputs": []
    },
    {
      "cell_type": "code",
      "metadata": {
        "id": "uKGzI1iEbUH5",
        "colab_type": "code",
        "colab": {
          "base_uri": "https://localhost:8080/",
          "height": 353
        },
        "outputId": "2793b919-09ea-4e15-ace6-d7b545baf8c4"
      },
      "source": [
        "model = freeze_all_but_top(model)\n",
        "model = train_model(model, 10, generators)"
      ],
      "execution_count": null,
      "outputs": [
        {
          "output_type": "stream",
          "text": [
            "Epoch 1/10\n",
            "100/100 [==============================] - 841s 8s/step - loss: 1.0963 - accuracy: 0.5888\n",
            "Epoch 2/10\n",
            "100/100 [==============================] - 838s 8s/step - loss: 0.6456 - accuracy: 0.6769\n",
            "Epoch 3/10\n",
            "100/100 [==============================] - 850s 9s/step - loss: 0.6277 - accuracy: 0.6809\n",
            "Epoch 4/10\n",
            "100/100 [==============================] - 848s 8s/step - loss: 0.5567 - accuracy: 0.7125\n",
            "Epoch 5/10\n",
            "100/100 [==============================] - 837s 8s/step - loss: 0.5416 - accuracy: 0.7250\n",
            "Epoch 6/10\n",
            "100/100 [==============================] - 838s 8s/step - loss: 0.5187 - accuracy: 0.7300\n",
            "Epoch 7/10\n",
            "100/100 [==============================] - 837s 8s/step - loss: 0.4804 - accuracy: 0.7609\n",
            "Epoch 8/10\n",
            "100/100 [==============================] - 913s 9s/step - loss: 0.4592 - accuracy: 0.7788\n",
            "Epoch 9/10\n",
            "100/100 [==============================] - 920s 9s/step - loss: 0.4366 - accuracy: 0.7816\n",
            "Epoch 10/10\n",
            "100/100 [==============================] - 914s 9s/step - loss: 0.4047 - accuracy: 0.8025\n"
          ],
          "name": "stdout"
        }
      ]
    },
    {
      "cell_type": "code",
      "metadata": {
        "id": "DhBWjvigbbNt",
        "colab_type": "code",
        "colab": {
          "base_uri": "https://localhost:8080/",
          "height": 67
        },
        "outputId": "b65d69f1-6fe9-4efc-a9f1-bac220aee87d"
      },
      "source": [
        "  for file in os.listdir('/content/fight-detection-surv-dataset/Dataset'):\n",
        "  print('/content/fight-detection-surv-dataset/Dataset/'+file)"
      ],
      "execution_count": null,
      "outputs": [
        {
          "output_type": "stream",
          "text": [
            "/content/fight-detection-surv-dataset/Dataset/.ipynb_checkpoints\n",
            "/content/fight-detection-surv-dataset/Dataset/nonfight1\n",
            "/content/fight-detection-surv-dataset/Dataset/fight1\n"
          ],
          "name": "stdout"
        }
      ]
    },
    {
      "cell_type": "code",
      "metadata": {
        "id": "Mk6WFoqrb0Px",
        "colab_type": "code",
        "colab": {
          "base_uri": "https://localhost:8080/",
          "height": 34
        },
        "outputId": "8249691d-e9e0-46c6-c204-61f7e4e122aa"
      },
      "source": [
        "import shutil \n",
        "\n",
        "location=\"/content/fight-detection-surv-dataset/Dataset\"\n",
        "path = os.path.join(location, '.ipynb_checkpoints') \n",
        "print(path)\n",
        "# removing directory \n",
        "shutil.rmtree(path) "
      ],
      "execution_count": null,
      "outputs": [
        {
          "output_type": "stream",
          "text": [
            "/content/fight-detection-surv-dataset/Dataset/.ipynb_checkpoints\n"
          ],
          "name": "stdout"
        }
      ]
    },
    {
      "cell_type": "code",
      "metadata": {
        "id": "cvqo17FhcRJD",
        "colab_type": "code",
        "colab": {
          "base_uri": "https://localhost:8080/",
          "height": 50
        },
        "outputId": "c7db1c04-fa61-4308-86f0-45f7a6c94556"
      },
      "source": [
        "for file in os.listdir('/content/fight-detection-surv-  dataset/Dataset'):\n",
        "  print('/content/fight-detection-surv-dataset/Dataset/'+file)"
      ],
      "execution_count": null,
      "outputs": [
        {
          "output_type": "stream",
          "text": [
            "/content/fight-detection-surv-dataset/Dataset/nonfight1\n",
            "/content/fight-detection-surv-dataset/Dataset/fight1\n"
          ],
          "name": "stdout"
        }
      ]
    },
    {
      "cell_type": "code",
      "metadata": {
        "id": "2_GBvp-9dUzj",
        "colab_type": "code",
        "colab": {
          "base_uri": "https://localhost:8080/",
          "height": 440
        },
        "outputId": "debf31bd-7e54-483d-dc49-62e193a84e7a"
      },
      "source": [
        "model = freeze_all_but_mid_and_top(model)\n",
        "model = train_model(model, 10, generators,\n",
        "                        [checkpointer, early_stopper, tensorboard])"
      ],
      "execution_count": null,
      "outputs": [
        {
          "output_type": "stream",
          "text": [
            "Epoch 1/10\n",
            "100/100 [==============================] - 1593s 16s/step - loss: 0.2855 - accuracy: 0.8750 - top_k_categorical_accuracy: 1.0000\n",
            "Epoch 2/10\n"
          ],
          "name": "stdout"
        },
        {
          "output_type": "stream",
          "text": [
            "/usr/local/lib/python3.6/dist-packages/keras/callbacks/callbacks.py:707: RuntimeWarning: Can save best model only with val_loss available, skipping.\n",
            "  'skipping.' % (self.monitor), RuntimeWarning)\n",
            "/usr/local/lib/python3.6/dist-packages/keras/callbacks/callbacks.py:846: RuntimeWarning: Early stopping conditioned on metric `val_loss` which is not available. Available metrics are: loss,accuracy,top_k_categorical_accuracy\n",
            "  (self.monitor, ','.join(list(logs.keys()))), RuntimeWarning\n"
          ],
          "name": "stderr"
        },
        {
          "output_type": "stream",
          "text": [
            "100/100 [==============================] - 1578s 16s/step - loss: 0.2671 - accuracy: 0.8866 - top_k_categorical_accuracy: 1.0000\n",
            "Epoch 3/10\n",
            "100/100 [==============================] - 1585s 16s/step - loss: 0.2556 - accuracy: 0.8934 - top_k_categorical_accuracy: 1.0000\n",
            "Epoch 4/10\n",
            "100/100 [==============================] - 1612s 16s/step - loss: 0.2357 - accuracy: 0.9062 - top_k_categorical_accuracy: 1.0000\n",
            "Epoch 5/10\n",
            "100/100 [==============================] - 1603s 16s/step - loss: 0.2208 - accuracy: 0.9084 - top_k_categorical_accuracy: 1.0000\n",
            "Epoch 6/10\n",
            "100/100 [==============================] - 1602s 16s/step - loss: 0.2049 - accuracy: 0.9178 - top_k_categorical_accuracy: 1.0000\n",
            "Epoch 7/10\n",
            "100/100 [==============================] - 1583s 16s/step - loss: 0.1875 - accuracy: 0.9291 - top_k_categorical_accuracy: 1.0000\n",
            "Epoch 8/10\n",
            "100/100 [==============================] - 1604s 16s/step - loss: 0.1787 - accuracy: 0.9369 - top_k_categorical_accuracy: 1.0000\n",
            "Epoch 9/10\n",
            "100/100 [==============================] - 1598s 16s/step - loss: 0.1743 - accuracy: 0.9309 - top_k_categorical_accuracy: 1.0000\n",
            "Epoch 10/10\n",
            "100/100 [==============================] - 1602s 16s/step - loss: 0.1657 - accuracy: 0.9337 - top_k_categorical_accuracy: 1.0000\n"
          ],
          "name": "stdout"
        }
      ]
    },
    {
      "cell_type": "code",
      "metadata": {
        "id": "CQaKy8TOzZRR",
        "colab_type": "code",
        "colab": {
          "base_uri": "https://localhost:8080/",
          "height": 282
        },
        "outputId": "37844307-09de-4513-e2cc-021406916cf3"
      },
      "source": [
        "import matplotlib.pyplot as plt\n",
        "plt.plot(model.history.history['loss'])"
      ],
      "execution_count": null,
      "outputs": [
        {
          "output_type": "execute_result",
          "data": {
            "text/plain": [
              "[<matplotlib.lines.Line2D at 0x7faf9f3188d0>]"
            ]
          },
          "metadata": {
            "tags": []
          },
          "execution_count": 48
        },
        {
          "output_type": "display_data",
          "data": {
            "image/png": "[encoded data removed]",
            "text/plain": [
              "<Figure size 432x288 with 1 Axes>"
            ]
          },
          "metadata": {
            "tags": [],
            "needs_background": "light"
          }
        }
      ]
    },
    {
      "cell_type": "code",
      "metadata": {
        "id": "I-ZfESvs-4SQ",
        "colab_type": "code",
        "colab": {
          "base_uri": "https://localhost:8080/",
          "height": 282
        },
        "outputId": "d9c60825-7c64-46f9-9f2a-a30dc365384f"
      },
      "source": [
        "  plt.plot(model.history.history['accuracy'])"
      ],
      "execution_count": null,
      "outputs": [
        {
          "output_type": "execute_result",
          "data": {
            "text/plain": [
              "[<matplotlib.lines.Line2D at 0x7faf9ee5edd8>]"
            ]
          },
          "metadata": {
            "tags": []
          },
          "execution_count": 49
        },
        {
          "output_type": "display_data",
          "data": {
            "image/png": "[encoded data removed]",
            "text/plain": [
              "<Figure size 432x288 with 1 Axes>"
            ]
          },
          "metadata": {
            "tags": [],
            "needs_background": "light"
          }
        }
      ]
    },
    {
      "cell_type": "code",
      "metadata": {
        "id": "KGGLs4UvwP5h",
        "colab_type": "code",
        "colab": {}
      },
      "source": [
        "\n",
        "#for filename in os.listdir('/content/fight-detection-surv-dataset/noFight'):\n",
        "  #print(filename)\n",
        "vidObj = cv2.VideoCapture('/content/test/fi008.mp4') \n",
        "while True: \n",
        "        success, image = vidObj.read() \n",
        "        #print(success)\n",
        "        # Saves the frames with frame-count \n",
        "        if success:\n",
        "          cv2.resize(image,(299,299));\n",
        "          cv2.imwrite(\"/content/test/test_frame/frame%d.jpg\" % count, image) \n",
        "          count += 1\n",
        "        else:\n",
        "          break\n",
        "vidObj.release() \n",
        "cv2.destroyAllWindows() "
      ],
      "execution_count": null,
      "outputs": []
    },
    {
      "cell_type": "code",
      "metadata": {
        "id": "8U7mfriryXZw",
        "colab_type": "code",
        "colab": {}
      },
      "source": [
        "import numpy as np"
      ],
      "execution_count": null,
      "outputs": []
    },
    {
      "cell_type": "code",
      "metadata": {
        "id": "Z6NYVFg5weSa",
        "colab_type": "code",
        "colab": {
          "base_uri": "https://localhost:8080/",
          "height": 1000
        },
        "outputId": "029872d7-27dd-4c65-ae4f-cb3e1942c961"
      },
      "source": [
        "for image1 in os.listdir('/content/test/test_frame'):\n",
        "  image = cv2.imread(os.path.join('/content/test/test_frame',image1))\n",
        "  if image is not None:\n",
        "      #x = image.img_to_array(img)\n",
        "      x = np.expand_dims(image, axis=0)\n",
        "\n",
        "      images = np.vstack([x])\n",
        "      classes = model.predict(images, batch_size=10)\n",
        "      print(classes[0])\n",
        "      if classes[0][0]>0.5:\n",
        "          print(\"Fighting recorded\")\n",
        "      else:\n",
        "          print(\"No fight\")\n",
        "            \n",
        "  "
      ],
      "execution_count": null,
      "outputs": [
        {
          "output_type": "stream",
          "text": [
            "[1.000000e+00 4.653767e-24]\n",
            "Fighting recorded\n",
            "[1.0000000e+00 1.5264563e-26]\n",
            "Fighting recorded\n",
            "[1.0000000e+00 4.0827327e-27]\n",
            "Fighting recorded\n",
            "[1.0000000e+00 6.3054104e-22]\n",
            "Fighting recorded\n",
            "[1.0000000e+00 1.5512298e-24]\n",
            "Fighting recorded\n",
            "[1.0000000e+00 1.3220109e-26]\n",
            "Fighting recorded\n",
            "[1.00000000e+00 1.29726635e-27]\n",
            "Fighting recorded\n",
            "[1.000000e+00 8.692969e-21]\n",
            "Fighting recorded\n",
            "[1.0000000e+00 1.7417293e-22]\n",
            "Fighting recorded\n",
            "[1.000000e+00 4.099348e-22]\n",
            "Fighting recorded\n",
            "[1.0000000e+00 1.0421657e-24]\n",
            "Fighting recorded\n",
            "[1.0000000e+00 1.2532053e-22]\n",
            "Fighting recorded\n",
            "[1.000000e+00 6.817247e-24]\n",
            "Fighting recorded\n",
            "[1.0000000e+00 8.1557945e-29]\n",
            "Fighting recorded\n",
            "[1.000000e+00 2.352124e-25]\n",
            "Fighting recorded\n",
            "[1.0000000e+00 1.0744644e-24]\n",
            "Fighting recorded\n",
            "[1.0000000e+00 1.3421037e-24]\n",
            "Fighting recorded\n",
            "[1.000000e+00 3.429441e-26]\n",
            "Fighting recorded\n",
            "[1.0000000e+00 1.3730086e-24]\n",
            "Fighting recorded\n",
            "[1.0000000e+00 1.7146443e-26]\n",
            "Fighting recorded\n",
            "[1.0000000e+00 1.7942898e-24]\n",
            "Fighting recorded\n",
            "[1.0000000e+00 1.7555631e-23]\n",
            "Fighting recorded\n",
            "[1.000000e+00 1.166636e-24]\n",
            "Fighting recorded\n",
            "[1.000000e+00 4.406321e-22]\n",
            "Fighting recorded\n",
            "[1.0000000e+00 1.8285005e-23]\n",
            "Fighting recorded\n",
            "[1.0000000e+00 1.4422018e-26]\n",
            "Fighting recorded\n",
            "[1.0000000e+00 2.6580877e-24]\n",
            "Fighting recorded\n",
            "[1.0000000e+00 1.4557987e-27]\n",
            "Fighting recorded\n",
            "[1.0000000e+00 4.6185283e-28]\n",
            "Fighting recorded\n",
            "[1.0000000e+00 1.4948252e-20]\n",
            "Fighting recorded\n",
            "[1.000000e+00 4.089566e-24]\n",
            "Fighting recorded\n",
            "[1.0000000e+00 1.4198733e-21]\n",
            "Fighting recorded\n",
            "[1.000000e+00 7.884168e-24]\n",
            "Fighting recorded\n",
            "[1.0000000e+00 2.0409316e-21]\n",
            "Fighting recorded\n",
            "[1.0000000e+00 3.0432226e-26]\n",
            "Fighting recorded\n",
            "[1.0000000e+00 1.2902608e-23]\n",
            "Fighting recorded\n",
            "[1.0000000e+00 3.7439924e-22]\n",
            "Fighting recorded\n",
            "[1.000000e+00 4.419447e-24]\n",
            "Fighting recorded\n",
            "[1.0000000e+00 1.5358986e-22]\n",
            "Fighting recorded\n",
            "[1.000000e+00 1.702611e-20]\n",
            "Fighting recorded\n",
            "[1.0000000e+00 2.1523353e-27]\n",
            "Fighting recorded\n",
            "[1.0000000e+00 1.5396571e-24]\n",
            "Fighting recorded\n",
            "[1.0000000e+00 2.2298058e-22]\n",
            "Fighting recorded\n",
            "[1.00000e+00 5.37769e-22]\n",
            "Fighting recorded\n"
          ],
          "name": "stdout"
        }
      ]
    },
    {
      "cell_type": "code",
      "metadata": {
        "id": "emupGgLRxjf_",
        "colab_type": "code",
        "colab": {}
      },
      "source": [
        ""
      ],
      "execution_count": null,
      "outputs": []
    }
  ]
}